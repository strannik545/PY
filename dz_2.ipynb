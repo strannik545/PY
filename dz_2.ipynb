{
 "cells": [
  {
   "cell_type": "markdown",
   "id": "a6af6319",
   "metadata": {},
   "source": [
    "# Напишем класс логистической регрессии"
   ]
  },
  {
   "cell_type": "code",
   "execution_count": 1,
   "id": "c61226c1",
   "metadata": {},
   "outputs": [],
   "source": [
    "import numpy as np\n",
    "import torch as T\n",
    "import pandas as pd\n",
    "import time\n",
    "pu = 'cpu'"
   ]
  },
  {
   "cell_type": "code",
   "execution_count": 2,
   "id": "f44dcef9",
   "metadata": {},
   "outputs": [],
   "source": [
    "class LogRec:\n",
    "    \n",
    "    def __init__(self, num):\n",
    "        self.n = num\n",
    "        self.b = np.array(1)\n",
    "        \n",
    "        low = -0.01\n",
    "        high = 0.01\n",
    "        self.w = T.rand(n, dtype=T.float32, requires_grad=True).to(pu)\n",
    "        self.w = (high - low) * self.w + low\n",
    "        self.w.grad = T.zeros(n, device = pu)\n",
    "        self.w.retain_grad()\n",
    "        \n",
    "        self.b = T.zeros(1, dtype=T.float32, requires_grad=True).to(pu)\n",
    "        self.b.grad = T.zeros(1, device = pu)\n",
    "        self.b.retain_grad()\n",
    "    \n",
    "    def forward(x_t, w, b):\n",
    "        z = T.dot(x_t, w).reshape(1)\n",
    "        z += b\n",
    "        p = 1 / (1 + T.exp(-z))\n",
    "        return p\n",
    "    \n",
    "    def train(self, train_x, train_y, num, lrn_rate, epochs, reg = 0, verbose = 0):\n",
    "        indexes = np.arange(num)\n",
    "        \n",
    "        for epoch in range(0, epochs): #сколько у нас шаго эволюции\n",
    "            #создание tot_loss, тензор с нулевыми начениями\n",
    "            tot_loss = T.zeros(1, dtype=T.float32, requires_grad=True).to(pu)\n",
    "            tot_loss.grad = T.zeros(1, device = pu)\n",
    "            tot_loss.retain_grad()\n",
    "\n",
    "            np.random.shuffle(indexes) #перетасовываем индексы\n",
    "            for ii in range(len(indexes)):\n",
    "                i = indexes[ii]\n",
    "                x_t = train_x[i]\n",
    "                target = train_y[i]\n",
    "                #out = self.forward(x_t,self.w,self.b)\n",
    "                out = 1/ (1 + T.exp(self.predict(x_t))) #вычисляем вероятность\n",
    "                loss = (out - target).pow(2).sum()  # считаем нсколько мы ошиблись\n",
    "                tot_loss = loss + tot_loss\n",
    "\n",
    "            if reg == 1:\n",
    "                tot_loss = tot_loss + T.norm(self.w, p=1) #регуляризация L1\n",
    "            elif reg == 2:\n",
    "                tot_loss = tot_loss + T.norm(self.w, p=2) #регуляризация L2\n",
    "\n",
    "            tot_loss.backward(retain_graph=True)  # Вычисляем градиенты\n",
    "\n",
    "            # обновляем градиент\n",
    "            self.w.data += -1 * lrn_rate * self.w.grad.data\n",
    "            self.b.data += -1 * lrn_rate * self.b.grad.data\n",
    "\n",
    "            # обнуляем\n",
    "            self.w.grad = T.zeros(n, device = pu) \n",
    "            self.b.grad = T.zeros(1, device = pu)\n",
    "\n",
    "            if epoch % verbose == 0:\n",
    "                print(\"epoch = %4d \" % epoch, end=\"\")\n",
    "                print(\"   loss = %6.4f\" % (tot_loss / num))\n",
    "    \n",
    "    def predict(self, x):\n",
    "        return T.matmul(x, self.w) + self.b\n",
    "\n",
    "    def res(self, name=''):\n",
    "        print(\"Coef:\", name)\n",
    "        print(self.w.detach().numpy(), self.b.detach().numpy())"
   ]
  },
  {
   "cell_type": "markdown",
   "id": "213fa98d",
   "metadata": {},
   "source": [
    "# Погода в шанхае"
   ]
  },
  {
   "cell_type": "code",
   "execution_count": 4,
   "id": "e33ff7d2",
   "metadata": {},
   "outputs": [],
   "source": [
    "import pandas as pd\n",
    "from sklearn.model_selection import train_test_split"
   ]
  },
  {
   "cell_type": "code",
   "execution_count": 5,
   "id": "772f046b",
   "metadata": {},
   "outputs": [],
   "source": [
    "data = pd.read_csv('Shanghai_HMT_2010.csv')\n",
    "data = data.dropna()"
   ]
  },
  {
   "cell_type": "code",
   "execution_count": 6,
   "id": "c748781c",
   "metadata": {},
   "outputs": [],
   "source": [
    "for i in ['day', 'hour', 'PM_Jingan', 'PM_US Post' , 'PM_Xuhui', 'Iws', 'precipitation', 'Iprec', 'No', 'year', 'cbwd']:\n",
    "    data = data.drop(i, axis=1)"
   ]
  },
  {
   "cell_type": "code",
   "execution_count": 7,
   "id": "6a9cf859",
   "metadata": {},
   "outputs": [
    {
     "data": {
      "text/html": [
       "<div>\n",
       "<style scoped>\n",
       "    .dataframe tbody tr th:only-of-type {\n",
       "        vertical-align: middle;\n",
       "    }\n",
       "\n",
       "    .dataframe tbody tr th {\n",
       "        vertical-align: top;\n",
       "    }\n",
       "\n",
       "    .dataframe thead th {\n",
       "        text-align: right;\n",
       "    }\n",
       "</style>\n",
       "<table border=\"1\" class=\"dataframe\">\n",
       "  <thead>\n",
       "    <tr style=\"text-align: right;\">\n",
       "      <th></th>\n",
       "      <th>month</th>\n",
       "      <th>season</th>\n",
       "      <th>DEWP</th>\n",
       "      <th>HUMI</th>\n",
       "      <th>PRES</th>\n",
       "      <th>TEMP</th>\n",
       "    </tr>\n",
       "  </thead>\n",
       "  <tbody>\n",
       "    <tr>\n",
       "      <th>26304</th>\n",
       "      <td>-1.557791</td>\n",
       "      <td>1.347979</td>\n",
       "      <td>-1.704071</td>\n",
       "      <td>0.018112</td>\n",
       "      <td>0.774887</td>\n",
       "      <td>-1.961308</td>\n",
       "    </tr>\n",
       "    <tr>\n",
       "      <th>26305</th>\n",
       "      <td>-1.557791</td>\n",
       "      <td>1.347979</td>\n",
       "      <td>-1.704071</td>\n",
       "      <td>0.018112</td>\n",
       "      <td>0.774887</td>\n",
       "      <td>-1.961308</td>\n",
       "    </tr>\n",
       "    <tr>\n",
       "      <th>26307</th>\n",
       "      <td>-1.557791</td>\n",
       "      <td>1.347979</td>\n",
       "      <td>-1.598843</td>\n",
       "      <td>0.317001</td>\n",
       "      <td>0.774887</td>\n",
       "      <td>-1.961308</td>\n",
       "    </tr>\n",
       "    <tr>\n",
       "      <th>26308</th>\n",
       "      <td>-1.557791</td>\n",
       "      <td>1.347979</td>\n",
       "      <td>-1.598843</td>\n",
       "      <td>0.628044</td>\n",
       "      <td>0.774887</td>\n",
       "      <td>-2.072632</td>\n",
       "    </tr>\n",
       "    <tr>\n",
       "      <th>26309</th>\n",
       "      <td>-1.557791</td>\n",
       "      <td>1.347979</td>\n",
       "      <td>-1.598843</td>\n",
       "      <td>0.628044</td>\n",
       "      <td>0.774887</td>\n",
       "      <td>-2.072632</td>\n",
       "    </tr>\n",
       "    <tr>\n",
       "      <th>...</th>\n",
       "      <td>...</td>\n",
       "      <td>...</td>\n",
       "      <td>...</td>\n",
       "      <td>...</td>\n",
       "      <td>...</td>\n",
       "      <td>...</td>\n",
       "    </tr>\n",
       "    <tr>\n",
       "      <th>52578</th>\n",
       "      <td>1.607977</td>\n",
       "      <td>1.347979</td>\n",
       "      <td>-1.388386</td>\n",
       "      <td>-0.450938</td>\n",
       "      <td>2.114730</td>\n",
       "      <td>-1.404688</td>\n",
       "    </tr>\n",
       "    <tr>\n",
       "      <th>52579</th>\n",
       "      <td>1.607977</td>\n",
       "      <td>1.347979</td>\n",
       "      <td>-1.283157</td>\n",
       "      <td>-0.195695</td>\n",
       "      <td>2.114730</td>\n",
       "      <td>-1.404688</td>\n",
       "    </tr>\n",
       "    <tr>\n",
       "      <th>52580</th>\n",
       "      <td>1.607977</td>\n",
       "      <td>1.347979</td>\n",
       "      <td>-1.072701</td>\n",
       "      <td>0.088277</td>\n",
       "      <td>2.114730</td>\n",
       "      <td>-1.293365</td>\n",
       "    </tr>\n",
       "    <tr>\n",
       "      <th>52581</th>\n",
       "      <td>1.607977</td>\n",
       "      <td>1.347979</td>\n",
       "      <td>-1.072701</td>\n",
       "      <td>0.088277</td>\n",
       "      <td>2.226384</td>\n",
       "      <td>-1.293365</td>\n",
       "    </tr>\n",
       "    <tr>\n",
       "      <th>52582</th>\n",
       "      <td>1.607977</td>\n",
       "      <td>1.347979</td>\n",
       "      <td>-1.177929</td>\n",
       "      <td>0.076675</td>\n",
       "      <td>2.114730</td>\n",
       "      <td>-1.404688</td>\n",
       "    </tr>\n",
       "  </tbody>\n",
       "</table>\n",
       "<p>21436 rows × 6 columns</p>\n",
       "</div>"
      ],
      "text/plain": [
       "          month    season      DEWP      HUMI      PRES      TEMP\n",
       "26304 -1.557791  1.347979 -1.704071  0.018112  0.774887 -1.961308\n",
       "26305 -1.557791  1.347979 -1.704071  0.018112  0.774887 -1.961308\n",
       "26307 -1.557791  1.347979 -1.598843  0.317001  0.774887 -1.961308\n",
       "26308 -1.557791  1.347979 -1.598843  0.628044  0.774887 -2.072632\n",
       "26309 -1.557791  1.347979 -1.598843  0.628044  0.774887 -2.072632\n",
       "...         ...       ...       ...       ...       ...       ...\n",
       "52578  1.607977  1.347979 -1.388386 -0.450938  2.114730 -1.404688\n",
       "52579  1.607977  1.347979 -1.283157 -0.195695  2.114730 -1.404688\n",
       "52580  1.607977  1.347979 -1.072701  0.088277  2.114730 -1.293365\n",
       "52581  1.607977  1.347979 -1.072701  0.088277  2.226384 -1.293365\n",
       "52582  1.607977  1.347979 -1.177929  0.076675  2.114730 -1.404688\n",
       "\n",
       "[21436 rows x 6 columns]"
      ]
     },
     "execution_count": 7,
     "metadata": {},
     "output_type": "execute_result"
    }
   ],
   "source": [
    "data -= data.mean()\n",
    "data /= data.std()\n",
    "data"
   ]
  },
  {
   "cell_type": "code",
   "execution_count": 8,
   "id": "e3e4a4dc",
   "metadata": {},
   "outputs": [],
   "source": [
    "data['PRES'] = data['PRES'].apply(lambda x: 1 if x > 0 else 0)"
   ]
  },
  {
   "cell_type": "code",
   "execution_count": 9,
   "id": "5b38e775",
   "metadata": {},
   "outputs": [],
   "source": [
    "train_x = T.tensor(data.drop(['PRES'], axis=1).to_numpy(), dtype=T.float32).to(pu)\n",
    "train_y = T.tensor(data['PRES'].to_numpy(), dtype=T.long).to(pu)"
   ]
  },
  {
   "cell_type": "code",
   "execution_count": 10,
   "id": "7e77f9d4",
   "metadata": {
    "scrolled": true
   },
   "outputs": [
    {
     "name": "stdout",
     "output_type": "stream",
     "text": [
      "epoch =    0    loss = 0.2511\n",
      "epoch =   10    loss = 0.0640\n",
      "epoch =   20    loss = 0.0631\n",
      "epoch =   30    loss = 0.0624\n",
      "epoch =   40    loss = 0.0618\n",
      "epoch =   50    loss = 0.0615\n",
      "epoch =   60    loss = 0.0614\n",
      "epoch =   70    loss = 0.0614\n",
      "epoch =   80    loss = 0.0614\n",
      "epoch =   90    loss = 0.0613\n",
      "Coef: without reg\n",
      "[-1.6048833  -0.80953485  2.1210449   0.26092535  2.5522377 ] [-0.41436666]\n"
     ]
    }
   ],
   "source": [
    "num = int(train_y.size()[0]) # число данных\n",
    "n = 5 # число фич\n",
    "res = LogRec(n)\n",
    "res.train(train_x, train_y, num, 0.0005, 100, reg=0, verbose=10)\n",
    "res.res('without reg')"
   ]
  },
  {
   "cell_type": "markdown",
   "id": "420324d3",
   "metadata": {},
   "source": [
    "# Что говорит sklearn"
   ]
  },
  {
   "cell_type": "code",
   "execution_count": 11,
   "id": "fdcbb594",
   "metadata": {},
   "outputs": [
    {
     "data": {
      "text/plain": [
       "LogisticRegression()"
      ]
     },
     "execution_count": 11,
     "metadata": {},
     "output_type": "execute_result"
    }
   ],
   "source": [
    "from sklearn.linear_model import LogisticRegression\n",
    "res3 = LogisticRegression()\n",
    "res3.fit(data.drop(['PRES'], axis=1).to_numpy(), data['PRES'].to_numpy())"
   ]
  },
  {
   "cell_type": "code",
   "execution_count": 12,
   "id": "1528e865",
   "metadata": {},
   "outputs": [
    {
     "name": "stdout",
     "output_type": "stream",
     "text": [
      "[[ 1.65479326  0.75872407 -0.62277762 -1.12085302 -4.15814051]]\n"
     ]
    }
   ],
   "source": [
    "print(res3.coef_)"
   ]
  },
  {
   "cell_type": "code",
   "execution_count": null,
   "id": "e048eb49",
   "metadata": {},
   "outputs": [],
   "source": []
  }
 ],
 "metadata": {
  "kernelspec": {
   "display_name": "Python 3",
   "language": "python",
   "name": "python3"
  },
  "language_info": {
   "codemirror_mode": {
    "name": "ipython",
    "version": 3
   },
   "file_extension": ".py",
   "mimetype": "text/x-python",
   "name": "python",
   "nbconvert_exporter": "python",
   "pygments_lexer": "ipython3",
   "version": "3.8.8"
  }
 },
 "nbformat": 4,
 "nbformat_minor": 5
}
