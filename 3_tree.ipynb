{
 "cells": [
  {
   "cell_type": "markdown",
   "id": "59476adf",
   "metadata": {},
   "source": [
    "# Decision tree and Random Forest"
   ]
  },
  {
   "cell_type": "code",
   "execution_count": 1,
   "id": "29887e54",
   "metadata": {},
   "outputs": [],
   "source": [
    "import numpy as np\n",
    "import sklearn\n",
    "import pandas as pd\n",
    "import matplotlib.pyplot as plt"
   ]
  },
  {
   "cell_type": "code",
   "execution_count": 18,
   "id": "0b19c125",
   "metadata": {},
   "outputs": [],
   "source": [
    "train_data = pd.read_csv(\"adult.data\", sep=\",\")\n",
    "\n",
    "test_data = pd.read_csv(\"adult.test\", sep=\",\")"
   ]
  },
  {
   "cell_type": "markdown",
   "id": "91bceab2",
   "metadata": {},
   "source": [
    "From https://archive.ics.uci.edu/ml/datasets/Occupancy+Detection+\n",
    "\n",
    "Experimental data used for binary classification (room occupancy) from Temperature,Humidity,Light and CO2. Ground-truth occupancy was obtained from time stamped pictures that were taken every minute.\n",
    "\n",
    "\n",
    "## Attribute Information:\n",
    "\n",
    "date time year-month-day hour:minute:second\n",
    "\n",
    "Temperature, in Celsius\n",
    "\n",
    "Relative Humidity, %\n",
    "\n",
    "Light, in Lux\n",
    "\n",
    "CO2, in ppm\n",
    "\n",
    "Humidity Ratio, Derived quantity from temperature and relative humidity, in kgwater-vapor/kg-air\n",
    "\n",
    "Occupancy, 0 or 1, 0 for not occupied, 1 for occupied status\n",
    "\n"
   ]
  },
  {
   "cell_type": "code",
   "execution_count": 19,
   "id": "8375f814",
   "metadata": {},
   "outputs": [
    {
     "data": {
      "text/html": [
       "<div>\n",
       "<style scoped>\n",
       "    .dataframe tbody tr th:only-of-type {\n",
       "        vertical-align: middle;\n",
       "    }\n",
       "\n",
       "    .dataframe tbody tr th {\n",
       "        vertical-align: top;\n",
       "    }\n",
       "\n",
       "    .dataframe thead th {\n",
       "        text-align: right;\n",
       "    }\n",
       "</style>\n",
       "<table border=\"1\" class=\"dataframe\">\n",
       "  <thead>\n",
       "    <tr style=\"text-align: right;\">\n",
       "      <th></th>\n",
       "      <th>age</th>\n",
       "      <th>workclass</th>\n",
       "      <th>fnlwgt</th>\n",
       "      <th>education</th>\n",
       "      <th>education-num</th>\n",
       "      <th>marital-status</th>\n",
       "      <th>occupation</th>\n",
       "      <th>relationship</th>\n",
       "      <th>race</th>\n",
       "      <th>sex</th>\n",
       "      <th>capital-gain</th>\n",
       "      <th>capital-loss</th>\n",
       "      <th>hours-per-week</th>\n",
       "      <th>native-country</th>\n",
       "      <th>pay</th>\n",
       "    </tr>\n",
       "  </thead>\n",
       "  <tbody>\n",
       "    <tr>\n",
       "      <th>1247</th>\n",
       "      <td>49</td>\n",
       "      <td>Private</td>\n",
       "      <td>148995</td>\n",
       "      <td>HS-grad</td>\n",
       "      <td>9</td>\n",
       "      <td>Divorced</td>\n",
       "      <td>Adm-clerical</td>\n",
       "      <td>Not-in-family</td>\n",
       "      <td>White</td>\n",
       "      <td>Male</td>\n",
       "      <td>0</td>\n",
       "      <td>0</td>\n",
       "      <td>40</td>\n",
       "      <td>United-States</td>\n",
       "      <td>&lt;=50K</td>\n",
       "    </tr>\n",
       "    <tr>\n",
       "      <th>25877</th>\n",
       "      <td>70</td>\n",
       "      <td>?</td>\n",
       "      <td>133248</td>\n",
       "      <td>HS-grad</td>\n",
       "      <td>9</td>\n",
       "      <td>Married-civ-spouse</td>\n",
       "      <td>?</td>\n",
       "      <td>Husband</td>\n",
       "      <td>White</td>\n",
       "      <td>Male</td>\n",
       "      <td>0</td>\n",
       "      <td>0</td>\n",
       "      <td>14</td>\n",
       "      <td>United-States</td>\n",
       "      <td>&lt;=50K</td>\n",
       "    </tr>\n",
       "    <tr>\n",
       "      <th>8403</th>\n",
       "      <td>41</td>\n",
       "      <td>Private</td>\n",
       "      <td>184846</td>\n",
       "      <td>Some-college</td>\n",
       "      <td>10</td>\n",
       "      <td>Divorced</td>\n",
       "      <td>Adm-clerical</td>\n",
       "      <td>Unmarried</td>\n",
       "      <td>White</td>\n",
       "      <td>Female</td>\n",
       "      <td>0</td>\n",
       "      <td>0</td>\n",
       "      <td>40</td>\n",
       "      <td>United-States</td>\n",
       "      <td>&lt;=50K</td>\n",
       "    </tr>\n",
       "    <tr>\n",
       "      <th>4031</th>\n",
       "      <td>36</td>\n",
       "      <td>Private</td>\n",
       "      <td>183612</td>\n",
       "      <td>HS-grad</td>\n",
       "      <td>9</td>\n",
       "      <td>Married-civ-spouse</td>\n",
       "      <td>Prof-specialty</td>\n",
       "      <td>Husband</td>\n",
       "      <td>White</td>\n",
       "      <td>Male</td>\n",
       "      <td>0</td>\n",
       "      <td>1977</td>\n",
       "      <td>40</td>\n",
       "      <td>United-States</td>\n",
       "      <td>&gt;50K</td>\n",
       "    </tr>\n",
       "    <tr>\n",
       "      <th>27729</th>\n",
       "      <td>34</td>\n",
       "      <td>Private</td>\n",
       "      <td>127610</td>\n",
       "      <td>Bachelors</td>\n",
       "      <td>13</td>\n",
       "      <td>Never-married</td>\n",
       "      <td>Prof-specialty</td>\n",
       "      <td>Own-child</td>\n",
       "      <td>White</td>\n",
       "      <td>Female</td>\n",
       "      <td>0</td>\n",
       "      <td>0</td>\n",
       "      <td>15</td>\n",
       "      <td>United-States</td>\n",
       "      <td>&lt;=50K</td>\n",
       "    </tr>\n",
       "    <tr>\n",
       "      <th>28894</th>\n",
       "      <td>25</td>\n",
       "      <td>Private</td>\n",
       "      <td>198587</td>\n",
       "      <td>Some-college</td>\n",
       "      <td>10</td>\n",
       "      <td>Never-married</td>\n",
       "      <td>Tech-support</td>\n",
       "      <td>Not-in-family</td>\n",
       "      <td>Black</td>\n",
       "      <td>Female</td>\n",
       "      <td>2174</td>\n",
       "      <td>0</td>\n",
       "      <td>50</td>\n",
       "      <td>United-States</td>\n",
       "      <td>&lt;=50K</td>\n",
       "    </tr>\n",
       "    <tr>\n",
       "      <th>26237</th>\n",
       "      <td>52</td>\n",
       "      <td>Private</td>\n",
       "      <td>273514</td>\n",
       "      <td>HS-grad</td>\n",
       "      <td>9</td>\n",
       "      <td>Separated</td>\n",
       "      <td>Craft-repair</td>\n",
       "      <td>Not-in-family</td>\n",
       "      <td>White</td>\n",
       "      <td>Male</td>\n",
       "      <td>0</td>\n",
       "      <td>0</td>\n",
       "      <td>40</td>\n",
       "      <td>United-States</td>\n",
       "      <td>&lt;=50K</td>\n",
       "    </tr>\n",
       "    <tr>\n",
       "      <th>5207</th>\n",
       "      <td>53</td>\n",
       "      <td>?</td>\n",
       "      <td>220640</td>\n",
       "      <td>Bachelors</td>\n",
       "      <td>13</td>\n",
       "      <td>Divorced</td>\n",
       "      <td>?</td>\n",
       "      <td>Other-relative</td>\n",
       "      <td>Other</td>\n",
       "      <td>Female</td>\n",
       "      <td>0</td>\n",
       "      <td>0</td>\n",
       "      <td>20</td>\n",
       "      <td>United-States</td>\n",
       "      <td>&lt;=50K</td>\n",
       "    </tr>\n",
       "    <tr>\n",
       "      <th>3832</th>\n",
       "      <td>24</td>\n",
       "      <td>Private</td>\n",
       "      <td>123983</td>\n",
       "      <td>11th</td>\n",
       "      <td>7</td>\n",
       "      <td>Married-civ-spouse</td>\n",
       "      <td>Transport-moving</td>\n",
       "      <td>Husband</td>\n",
       "      <td>Asian-Pac-Islander</td>\n",
       "      <td>Male</td>\n",
       "      <td>0</td>\n",
       "      <td>0</td>\n",
       "      <td>40</td>\n",
       "      <td>Vietnam</td>\n",
       "      <td>&lt;=50K</td>\n",
       "    </tr>\n",
       "    <tr>\n",
       "      <th>6714</th>\n",
       "      <td>61</td>\n",
       "      <td>Private</td>\n",
       "      <td>176839</td>\n",
       "      <td>Bachelors</td>\n",
       "      <td>13</td>\n",
       "      <td>Married-civ-spouse</td>\n",
       "      <td>Prof-specialty</td>\n",
       "      <td>Husband</td>\n",
       "      <td>White</td>\n",
       "      <td>Male</td>\n",
       "      <td>15024</td>\n",
       "      <td>0</td>\n",
       "      <td>50</td>\n",
       "      <td>United-States</td>\n",
       "      <td>&gt;50K</td>\n",
       "    </tr>\n",
       "    <tr>\n",
       "      <th>13606</th>\n",
       "      <td>18</td>\n",
       "      <td>Private</td>\n",
       "      <td>169652</td>\n",
       "      <td>11th</td>\n",
       "      <td>7</td>\n",
       "      <td>Never-married</td>\n",
       "      <td>Other-service</td>\n",
       "      <td>Own-child</td>\n",
       "      <td>White</td>\n",
       "      <td>Female</td>\n",
       "      <td>0</td>\n",
       "      <td>0</td>\n",
       "      <td>12</td>\n",
       "      <td>United-States</td>\n",
       "      <td>&lt;=50K</td>\n",
       "    </tr>\n",
       "    <tr>\n",
       "      <th>28798</th>\n",
       "      <td>30</td>\n",
       "      <td>Self-emp-not-inc</td>\n",
       "      <td>116666</td>\n",
       "      <td>Masters</td>\n",
       "      <td>14</td>\n",
       "      <td>Divorced</td>\n",
       "      <td>Prof-specialty</td>\n",
       "      <td>Not-in-family</td>\n",
       "      <td>Asian-Pac-Islander</td>\n",
       "      <td>Male</td>\n",
       "      <td>0</td>\n",
       "      <td>0</td>\n",
       "      <td>50</td>\n",
       "      <td>India</td>\n",
       "      <td>&gt;50K</td>\n",
       "    </tr>\n",
       "    <tr>\n",
       "      <th>18148</th>\n",
       "      <td>36</td>\n",
       "      <td>Private</td>\n",
       "      <td>416745</td>\n",
       "      <td>Assoc-acdm</td>\n",
       "      <td>12</td>\n",
       "      <td>Divorced</td>\n",
       "      <td>Exec-managerial</td>\n",
       "      <td>Not-in-family</td>\n",
       "      <td>White</td>\n",
       "      <td>Male</td>\n",
       "      <td>0</td>\n",
       "      <td>0</td>\n",
       "      <td>48</td>\n",
       "      <td>United-States</td>\n",
       "      <td>&lt;=50K</td>\n",
       "    </tr>\n",
       "    <tr>\n",
       "      <th>19347</th>\n",
       "      <td>41</td>\n",
       "      <td>Private</td>\n",
       "      <td>424478</td>\n",
       "      <td>Some-college</td>\n",
       "      <td>10</td>\n",
       "      <td>Married-civ-spouse</td>\n",
       "      <td>Craft-repair</td>\n",
       "      <td>Husband</td>\n",
       "      <td>Black</td>\n",
       "      <td>Male</td>\n",
       "      <td>0</td>\n",
       "      <td>0</td>\n",
       "      <td>45</td>\n",
       "      <td>United-States</td>\n",
       "      <td>&gt;50K</td>\n",
       "    </tr>\n",
       "    <tr>\n",
       "      <th>24495</th>\n",
       "      <td>29</td>\n",
       "      <td>Private</td>\n",
       "      <td>192384</td>\n",
       "      <td>HS-grad</td>\n",
       "      <td>9</td>\n",
       "      <td>Never-married</td>\n",
       "      <td>Craft-repair</td>\n",
       "      <td>Not-in-family</td>\n",
       "      <td>White</td>\n",
       "      <td>Male</td>\n",
       "      <td>0</td>\n",
       "      <td>0</td>\n",
       "      <td>40</td>\n",
       "      <td>United-States</td>\n",
       "      <td>&lt;=50K</td>\n",
       "    </tr>\n",
       "  </tbody>\n",
       "</table>\n",
       "</div>"
      ],
      "text/plain": [
       "       age         workclass  fnlwgt     education  education-num  \\\n",
       "1247    49           Private  148995       HS-grad              9   \n",
       "25877   70                 ?  133248       HS-grad              9   \n",
       "8403    41           Private  184846  Some-college             10   \n",
       "4031    36           Private  183612       HS-grad              9   \n",
       "27729   34           Private  127610     Bachelors             13   \n",
       "28894   25           Private  198587  Some-college             10   \n",
       "26237   52           Private  273514       HS-grad              9   \n",
       "5207    53                 ?  220640     Bachelors             13   \n",
       "3832    24           Private  123983          11th              7   \n",
       "6714    61           Private  176839     Bachelors             13   \n",
       "13606   18           Private  169652          11th              7   \n",
       "28798   30  Self-emp-not-inc  116666       Masters             14   \n",
       "18148   36           Private  416745    Assoc-acdm             12   \n",
       "19347   41           Private  424478  Some-college             10   \n",
       "24495   29           Private  192384       HS-grad              9   \n",
       "\n",
       "           marital-status        occupation    relationship  \\\n",
       "1247             Divorced      Adm-clerical   Not-in-family   \n",
       "25877  Married-civ-spouse                 ?         Husband   \n",
       "8403             Divorced      Adm-clerical       Unmarried   \n",
       "4031   Married-civ-spouse    Prof-specialty         Husband   \n",
       "27729       Never-married    Prof-specialty       Own-child   \n",
       "28894       Never-married      Tech-support   Not-in-family   \n",
       "26237           Separated      Craft-repair   Not-in-family   \n",
       "5207             Divorced                 ?  Other-relative   \n",
       "3832   Married-civ-spouse  Transport-moving         Husband   \n",
       "6714   Married-civ-spouse    Prof-specialty         Husband   \n",
       "13606       Never-married     Other-service       Own-child   \n",
       "28798            Divorced    Prof-specialty   Not-in-family   \n",
       "18148            Divorced   Exec-managerial   Not-in-family   \n",
       "19347  Married-civ-spouse      Craft-repair         Husband   \n",
       "24495       Never-married      Craft-repair   Not-in-family   \n",
       "\n",
       "                     race     sex  capital-gain  capital-loss  hours-per-week  \\\n",
       "1247                White    Male             0             0              40   \n",
       "25877               White    Male             0             0              14   \n",
       "8403                White  Female             0             0              40   \n",
       "4031                White    Male             0          1977              40   \n",
       "27729               White  Female             0             0              15   \n",
       "28894               Black  Female          2174             0              50   \n",
       "26237               White    Male             0             0              40   \n",
       "5207                Other  Female             0             0              20   \n",
       "3832   Asian-Pac-Islander    Male             0             0              40   \n",
       "6714                White    Male         15024             0              50   \n",
       "13606               White  Female             0             0              12   \n",
       "28798  Asian-Pac-Islander    Male             0             0              50   \n",
       "18148               White    Male             0             0              48   \n",
       "19347               Black    Male             0             0              45   \n",
       "24495               White    Male             0             0              40   \n",
       "\n",
       "      native-country    pay  \n",
       "1247   United-States  <=50K  \n",
       "25877  United-States  <=50K  \n",
       "8403   United-States  <=50K  \n",
       "4031   United-States   >50K  \n",
       "27729  United-States  <=50K  \n",
       "28894  United-States  <=50K  \n",
       "26237  United-States  <=50K  \n",
       "5207   United-States  <=50K  \n",
       "3832         Vietnam  <=50K  \n",
       "6714   United-States   >50K  \n",
       "13606  United-States  <=50K  \n",
       "28798          India   >50K  \n",
       "18148  United-States  <=50K  \n",
       "19347  United-States   >50K  \n",
       "24495  United-States  <=50K  "
      ]
     },
     "execution_count": 19,
     "metadata": {},
     "output_type": "execute_result"
    }
   ],
   "source": [
    "train_data.sample(15)"
   ]
  },
  {
   "cell_type": "code",
   "execution_count": 4,
   "id": "faaa74f0",
   "metadata": {},
   "outputs": [
    {
     "name": "stdout",
     "output_type": "stream",
     "text": [
      "(32561, 15)\n"
     ]
    }
   ],
   "source": [
    "print(train_data.shape)"
   ]
  },
  {
   "cell_type": "code",
   "execution_count": 5,
   "id": "3a1dc032",
   "metadata": {},
   "outputs": [],
   "source": [
    "from sklearn.tree import DecisionTreeClassifier"
   ]
  },
  {
   "cell_type": "markdown",
   "id": "51bae4f7",
   "metadata": {},
   "source": [
    "DecisionTreeClassifier(*, criterion='gini', splitter='best', max_depth=None, min_samples_split=2, min_samples_leaf=1, min_weight_fraction_leaf=0.0, max_features=None, random_state=None, max_leaf_nodes=None, min_impurity_decrease=0.0, class_weight=None, ccp_alpha=0.0)\n",
    "\n",
    "criterion='gini'\n",
    "\n",
    "max_depth=None\n",
    "\n",
    "\n",
    "min_samples_leafint or float, default=1\n",
    "\n"
   ]
  },
  {
   "cell_type": "markdown",
   "id": "ca69cb47",
   "metadata": {},
   "source": [
    "## Decision Tree with Entropy criterion"
   ]
  },
  {
   "cell_type": "code",
   "execution_count": 20,
   "id": "1e05812e",
   "metadata": {},
   "outputs": [
    {
     "data": {
      "text/plain": [
       "DecisionTreeClassifier(criterion='entropy', max_depth=9, random_state=42)"
      ]
     },
     "execution_count": 20,
     "metadata": {},
     "output_type": "execute_result"
    }
   ],
   "source": [
    "tree = DecisionTreeClassifier(max_depth=9, criterion='entropy', random_state=42)\n",
    "\n",
    "temp_mass = np.array([0 if x == 'Male' else 1 for x in train_data['sex'].values])\n",
    "train_data['sex'] = temp_mass\n",
    "#White, Asian-Pac-Islander, Amer-Indian-Eskimo, Other, Black\n",
    "temp_mass = np.array([0 if x == 'Other' else 1 if x == 'Asian-Pac-Islander' else 2 if x == 'Black' else 3 if x == 'Amer-Indian-Eskimo' else 3 if x == 'White' else 0 for x in train_data['race'].values])\n",
    "train_data['race'] = temp_mass\n",
    "\n",
    "exp1_data_train = train_data[['age','hours-per-week','education-num','race','sex']]\n",
    "\n",
    "temp_mass = np.array([0 if x == '<=50K' else 1 for x in train_data['pay'].values])\n",
    "train_data['pay'] = temp_mass\n",
    "\n",
    "exp1_data_labels = train_data['pay']\n",
    "tree.fit(exp1_data_train, exp1_data_labels)"
   ]
  },
  {
   "cell_type": "code",
   "execution_count": 21,
   "id": "509c395c",
   "metadata": {},
   "outputs": [
    {
     "name": "stdout",
     "output_type": "stream",
     "text": [
      "0.16491615994103556\n",
      "0.28313824739006643\n"
     ]
    },
    {
     "ename": "ValueError",
     "evalue": "Only one class present in y_true. ROC AUC score is not defined in that case.",
     "output_type": "error",
     "traceback": [
      "\u001b[1;31m---------------------------------------------------------------------------\u001b[0m",
      "\u001b[1;31mValueError\u001b[0m                                Traceback (most recent call last)",
      "\u001b[1;32m<ipython-input-21-e921d9fa3f46>\u001b[0m in \u001b[0;36m<module>\u001b[1;34m\u001b[0m\n\u001b[0;32m     17\u001b[0m \u001b[0mprint\u001b[0m\u001b[1;33m(\u001b[0m\u001b[0maccuracy_score\u001b[0m\u001b[1;33m(\u001b[0m\u001b[0mexp1_data_tlabels\u001b[0m\u001b[1;33m,\u001b[0m \u001b[0mprediction\u001b[0m\u001b[1;33m)\u001b[0m\u001b[1;33m)\u001b[0m\u001b[1;33m\u001b[0m\u001b[1;33m\u001b[0m\u001b[0m\n\u001b[0;32m     18\u001b[0m \u001b[0mprint\u001b[0m\u001b[1;33m(\u001b[0m\u001b[0mf1_score\u001b[0m\u001b[1;33m(\u001b[0m\u001b[0mexp1_data_tlabels\u001b[0m\u001b[1;33m,\u001b[0m \u001b[0mprediction\u001b[0m\u001b[1;33m)\u001b[0m\u001b[1;33m)\u001b[0m\u001b[1;33m\u001b[0m\u001b[1;33m\u001b[0m\u001b[0m\n\u001b[1;32m---> 19\u001b[1;33m \u001b[0mprint\u001b[0m\u001b[1;33m(\u001b[0m\u001b[0mroc_auc_score\u001b[0m\u001b[1;33m(\u001b[0m\u001b[0mexp1_data_tlabels\u001b[0m\u001b[1;33m,\u001b[0m \u001b[0mprediction\u001b[0m\u001b[1;33m)\u001b[0m\u001b[1;33m)\u001b[0m\u001b[1;33m\u001b[0m\u001b[1;33m\u001b[0m\u001b[0m\n\u001b[0m",
      "\u001b[1;32mC:\\Anaconda3\\lib\\site-packages\\sklearn\\utils\\validation.py\u001b[0m in \u001b[0;36minner_f\u001b[1;34m(*args, **kwargs)\u001b[0m\n\u001b[0;32m     61\u001b[0m             \u001b[0mextra_args\u001b[0m \u001b[1;33m=\u001b[0m \u001b[0mlen\u001b[0m\u001b[1;33m(\u001b[0m\u001b[0margs\u001b[0m\u001b[1;33m)\u001b[0m \u001b[1;33m-\u001b[0m \u001b[0mlen\u001b[0m\u001b[1;33m(\u001b[0m\u001b[0mall_args\u001b[0m\u001b[1;33m)\u001b[0m\u001b[1;33m\u001b[0m\u001b[1;33m\u001b[0m\u001b[0m\n\u001b[0;32m     62\u001b[0m             \u001b[1;32mif\u001b[0m \u001b[0mextra_args\u001b[0m \u001b[1;33m<=\u001b[0m \u001b[1;36m0\u001b[0m\u001b[1;33m:\u001b[0m\u001b[1;33m\u001b[0m\u001b[1;33m\u001b[0m\u001b[0m\n\u001b[1;32m---> 63\u001b[1;33m                 \u001b[1;32mreturn\u001b[0m \u001b[0mf\u001b[0m\u001b[1;33m(\u001b[0m\u001b[1;33m*\u001b[0m\u001b[0margs\u001b[0m\u001b[1;33m,\u001b[0m \u001b[1;33m**\u001b[0m\u001b[0mkwargs\u001b[0m\u001b[1;33m)\u001b[0m\u001b[1;33m\u001b[0m\u001b[1;33m\u001b[0m\u001b[0m\n\u001b[0m\u001b[0;32m     64\u001b[0m \u001b[1;33m\u001b[0m\u001b[0m\n\u001b[0;32m     65\u001b[0m             \u001b[1;31m# extra_args > 0\u001b[0m\u001b[1;33m\u001b[0m\u001b[1;33m\u001b[0m\u001b[1;33m\u001b[0m\u001b[0m\n",
      "\u001b[1;32mC:\\Anaconda3\\lib\\site-packages\\sklearn\\metrics\\_ranking.py\u001b[0m in \u001b[0;36mroc_auc_score\u001b[1;34m(y_true, y_score, average, sample_weight, max_fpr, multi_class, labels)\u001b[0m\n\u001b[0;32m    540\u001b[0m         \u001b[0mlabels\u001b[0m \u001b[1;33m=\u001b[0m \u001b[0mnp\u001b[0m\u001b[1;33m.\u001b[0m\u001b[0munique\u001b[0m\u001b[1;33m(\u001b[0m\u001b[0my_true\u001b[0m\u001b[1;33m)\u001b[0m\u001b[1;33m\u001b[0m\u001b[1;33m\u001b[0m\u001b[0m\n\u001b[0;32m    541\u001b[0m         \u001b[0my_true\u001b[0m \u001b[1;33m=\u001b[0m \u001b[0mlabel_binarize\u001b[0m\u001b[1;33m(\u001b[0m\u001b[0my_true\u001b[0m\u001b[1;33m,\u001b[0m \u001b[0mclasses\u001b[0m\u001b[1;33m=\u001b[0m\u001b[0mlabels\u001b[0m\u001b[1;33m)\u001b[0m\u001b[1;33m[\u001b[0m\u001b[1;33m:\u001b[0m\u001b[1;33m,\u001b[0m \u001b[1;36m0\u001b[0m\u001b[1;33m]\u001b[0m\u001b[1;33m\u001b[0m\u001b[1;33m\u001b[0m\u001b[0m\n\u001b[1;32m--> 542\u001b[1;33m         return _average_binary_score(partial(_binary_roc_auc_score,\n\u001b[0m\u001b[0;32m    543\u001b[0m                                              max_fpr=max_fpr),\n\u001b[0;32m    544\u001b[0m                                      \u001b[0my_true\u001b[0m\u001b[1;33m,\u001b[0m \u001b[0my_score\u001b[0m\u001b[1;33m,\u001b[0m \u001b[0maverage\u001b[0m\u001b[1;33m,\u001b[0m\u001b[1;33m\u001b[0m\u001b[1;33m\u001b[0m\u001b[0m\n",
      "\u001b[1;32mC:\\Anaconda3\\lib\\site-packages\\sklearn\\metrics\\_base.py\u001b[0m in \u001b[0;36m_average_binary_score\u001b[1;34m(binary_metric, y_true, y_score, average, sample_weight)\u001b[0m\n\u001b[0;32m     75\u001b[0m \u001b[1;33m\u001b[0m\u001b[0m\n\u001b[0;32m     76\u001b[0m     \u001b[1;32mif\u001b[0m \u001b[0my_type\u001b[0m \u001b[1;33m==\u001b[0m \u001b[1;34m\"binary\"\u001b[0m\u001b[1;33m:\u001b[0m\u001b[1;33m\u001b[0m\u001b[1;33m\u001b[0m\u001b[0m\n\u001b[1;32m---> 77\u001b[1;33m         \u001b[1;32mreturn\u001b[0m \u001b[0mbinary_metric\u001b[0m\u001b[1;33m(\u001b[0m\u001b[0my_true\u001b[0m\u001b[1;33m,\u001b[0m \u001b[0my_score\u001b[0m\u001b[1;33m,\u001b[0m \u001b[0msample_weight\u001b[0m\u001b[1;33m=\u001b[0m\u001b[0msample_weight\u001b[0m\u001b[1;33m)\u001b[0m\u001b[1;33m\u001b[0m\u001b[1;33m\u001b[0m\u001b[0m\n\u001b[0m\u001b[0;32m     78\u001b[0m \u001b[1;33m\u001b[0m\u001b[0m\n\u001b[0;32m     79\u001b[0m     \u001b[0mcheck_consistent_length\u001b[0m\u001b[1;33m(\u001b[0m\u001b[0my_true\u001b[0m\u001b[1;33m,\u001b[0m \u001b[0my_score\u001b[0m\u001b[1;33m,\u001b[0m \u001b[0msample_weight\u001b[0m\u001b[1;33m)\u001b[0m\u001b[1;33m\u001b[0m\u001b[1;33m\u001b[0m\u001b[0m\n",
      "\u001b[1;32mC:\\Anaconda3\\lib\\site-packages\\sklearn\\metrics\\_ranking.py\u001b[0m in \u001b[0;36m_binary_roc_auc_score\u001b[1;34m(y_true, y_score, sample_weight, max_fpr)\u001b[0m\n\u001b[0;32m    325\u001b[0m     \u001b[1;34m\"\"\"Binary roc auc score.\"\"\"\u001b[0m\u001b[1;33m\u001b[0m\u001b[1;33m\u001b[0m\u001b[0m\n\u001b[0;32m    326\u001b[0m     \u001b[1;32mif\u001b[0m \u001b[0mlen\u001b[0m\u001b[1;33m(\u001b[0m\u001b[0mnp\u001b[0m\u001b[1;33m.\u001b[0m\u001b[0munique\u001b[0m\u001b[1;33m(\u001b[0m\u001b[0my_true\u001b[0m\u001b[1;33m)\u001b[0m\u001b[1;33m)\u001b[0m \u001b[1;33m!=\u001b[0m \u001b[1;36m2\u001b[0m\u001b[1;33m:\u001b[0m\u001b[1;33m\u001b[0m\u001b[1;33m\u001b[0m\u001b[0m\n\u001b[1;32m--> 327\u001b[1;33m         raise ValueError(\"Only one class present in y_true. ROC AUC score \"\n\u001b[0m\u001b[0;32m    328\u001b[0m                          \"is not defined in that case.\")\n\u001b[0;32m    329\u001b[0m \u001b[1;33m\u001b[0m\u001b[0m\n",
      "\u001b[1;31mValueError\u001b[0m: Only one class present in y_true. ROC AUC score is not defined in that case."
     ]
    }
   ],
   "source": [
    "from sklearn.metrics import accuracy_score, f1_score, roc_auc_score\n",
    "\n",
    "temp_mass = np.array([0 if x == 'Male' else 1 for x in test_data['sex'].values])\n",
    "test_data['sex'] = temp_mass\n",
    "#White, Asian-Pac-Islander, Amer-Indian-Eskimo, Other, Black\n",
    "temp_mass = np.array([0 if x == 'Other' else 1 if x == 'Asian-Pac-Islander' else 2 if x == 'Black' else 3 if x == 'Amer-Indian-Eskimo' else 3 if x == 'White' else 0 for x in test_data['race'].values])\n",
    "test_data['race'] = temp_mass\n",
    "\n",
    "exp1_data_test = test_data[['age','hours-per-week','education-num','race','sex']]\n",
    "\n",
    "temp_mass = np.array([0 if x == '<=50K' else 1 for x in test_data['pay'].values])\n",
    "test_data['pay'] = temp_mass\n",
    "exp1_data_tlabels = test_data['pay']\n",
    "\n",
    "prediction = tree.predict(exp1_data_test)\n",
    "\n",
    "print(accuracy_score(exp1_data_tlabels, prediction))\n",
    "print(f1_score(exp1_data_tlabels, prediction))\n",
    "print(roc_auc_score(exp1_data_tlabels, prediction))"
   ]
  },
  {
   "cell_type": "code",
   "execution_count": 22,
   "id": "d7c4eb40",
   "metadata": {},
   "outputs": [
    {
     "data": {
      "text/plain": [
       "array([0, 1])"
      ]
     },
     "execution_count": 22,
     "metadata": {},
     "output_type": "execute_result"
    }
   ],
   "source": [
    "tree.classes_"
   ]
  },
  {
   "cell_type": "code",
   "execution_count": 23,
   "id": "914f5961",
   "metadata": {},
   "outputs": [
    {
     "data": {
      "text/plain": [
       "array([0.42629271, 0.11104586, 0.32953124, 0.01383861, 0.11929158])"
      ]
     },
     "execution_count": 23,
     "metadata": {},
     "output_type": "execute_result"
    }
   ],
   "source": [
    "tree.feature_importances_"
   ]
  },
  {
   "cell_type": "code",
   "execution_count": 24,
   "id": "d6d55add",
   "metadata": {},
   "outputs": [
    {
     "data": {
      "text/plain": [
       "5"
      ]
     },
     "execution_count": 24,
     "metadata": {},
     "output_type": "execute_result"
    }
   ],
   "source": [
    "tree.max_features_"
   ]
  },
  {
   "cell_type": "code",
   "execution_count": 25,
   "id": "755e52e3",
   "metadata": {},
   "outputs": [
    {
     "data": {
      "text/plain": [
       "2"
      ]
     },
     "execution_count": 25,
     "metadata": {},
     "output_type": "execute_result"
    }
   ],
   "source": [
    "tree.n_classes_"
   ]
  },
  {
   "cell_type": "code",
   "execution_count": 26,
   "id": "376196e3",
   "metadata": {},
   "outputs": [
    {
     "data": {
      "text/plain": [
       "5"
      ]
     },
     "execution_count": 26,
     "metadata": {},
     "output_type": "execute_result"
    }
   ],
   "source": [
    "tree.n_features_in_"
   ]
  },
  {
   "cell_type": "code",
   "execution_count": 27,
   "id": "53dd7cce",
   "metadata": {},
   "outputs": [
    {
     "data": {
      "text/plain": [
       "1"
      ]
     },
     "execution_count": 27,
     "metadata": {},
     "output_type": "execute_result"
    }
   ],
   "source": [
    "tree.n_outputs_"
   ]
  },
  {
   "cell_type": "markdown",
   "id": "29adfb6d",
   "metadata": {},
   "source": [
    "## Decision Tree with Gini criterion"
   ]
  },
  {
   "cell_type": "code",
   "execution_count": 28,
   "id": "bdb19e98",
   "metadata": {},
   "outputs": [
    {
     "data": {
      "text/plain": [
       "DecisionTreeClassifier(max_depth=9, random_state=42)"
      ]
     },
     "execution_count": 28,
     "metadata": {},
     "output_type": "execute_result"
    }
   ],
   "source": [
    "new_tree = DecisionTreeClassifier(max_depth=9, criterion='gini', random_state=42)\n",
    "#exp1_data_train = train_data[['Temperature','Humidity']]\n",
    "#exp1_data_labels = train_data['Occupancy']\n",
    "\n",
    "#temp_mass = np.array([0 if x == 'Male' else 1 for x in train_data['sex'].values])\n",
    "#train_data['sex'] = temp_mass\n",
    "#White, Asian-Pac-Islander, Amer-Indian-Eskimo, Other, Black\n",
    "#temp_mass = np.array([0 if x == 'Other' else 1 if x == 'Asian-Pac-Islander' else 2 if x == 'Black' else 3 if x == 'Amer-Indian-Eskimo' else 3 if x == 'White' else 0 for x in train_data['race'].values])\n",
    "#train_data['race'] = temp_mass\n",
    "\n",
    "exp1_data_train = train_data[['age','hours-per-week','education-num','race','sex']]\n",
    "\n",
    "#temp_mass = np.array([0 if x == '<=50K' else 1 for x in train_data['pay'].values])\n",
    "#train_data['pay'] = temp_mass\n",
    "\n",
    "exp1_data_labels = train_data['pay']\n",
    "\n",
    "new_tree.fit(exp1_data_train, exp1_data_labels)"
   ]
  },
  {
   "cell_type": "code",
   "execution_count": 29,
   "id": "bd0f4527",
   "metadata": {},
   "outputs": [
    {
     "name": "stdout",
     "output_type": "stream",
     "text": [
      "0.14919231005466493\n",
      "0.2596472474612507\n"
     ]
    },
    {
     "ename": "ValueError",
     "evalue": "Only one class present in y_true. ROC AUC score is not defined in that case.",
     "output_type": "error",
     "traceback": [
      "\u001b[1;31m---------------------------------------------------------------------------\u001b[0m",
      "\u001b[1;31mValueError\u001b[0m                                Traceback (most recent call last)",
      "\u001b[1;32m<ipython-input-29-603eeb94b6f3>\u001b[0m in \u001b[0;36m<module>\u001b[1;34m\u001b[0m\n\u001b[0;32m      6\u001b[0m \u001b[0mprint\u001b[0m\u001b[1;33m(\u001b[0m\u001b[0maccuracy_score\u001b[0m\u001b[1;33m(\u001b[0m\u001b[0mexp2_data_tlabels\u001b[0m\u001b[1;33m,\u001b[0m \u001b[0mprediction\u001b[0m\u001b[1;33m)\u001b[0m\u001b[1;33m)\u001b[0m\u001b[1;33m\u001b[0m\u001b[1;33m\u001b[0m\u001b[0m\n\u001b[0;32m      7\u001b[0m \u001b[0mprint\u001b[0m\u001b[1;33m(\u001b[0m\u001b[0mf1_score\u001b[0m\u001b[1;33m(\u001b[0m\u001b[0mexp2_data_tlabels\u001b[0m\u001b[1;33m,\u001b[0m \u001b[0mprediction\u001b[0m\u001b[1;33m)\u001b[0m\u001b[1;33m)\u001b[0m\u001b[1;33m\u001b[0m\u001b[1;33m\u001b[0m\u001b[0m\n\u001b[1;32m----> 8\u001b[1;33m \u001b[0mprint\u001b[0m\u001b[1;33m(\u001b[0m\u001b[0mroc_auc_score\u001b[0m\u001b[1;33m(\u001b[0m\u001b[0mexp2_data_tlabels\u001b[0m\u001b[1;33m,\u001b[0m \u001b[0mprediction\u001b[0m\u001b[1;33m)\u001b[0m\u001b[1;33m)\u001b[0m\u001b[1;33m\u001b[0m\u001b[1;33m\u001b[0m\u001b[0m\n\u001b[0m",
      "\u001b[1;32mC:\\Anaconda3\\lib\\site-packages\\sklearn\\utils\\validation.py\u001b[0m in \u001b[0;36minner_f\u001b[1;34m(*args, **kwargs)\u001b[0m\n\u001b[0;32m     61\u001b[0m             \u001b[0mextra_args\u001b[0m \u001b[1;33m=\u001b[0m \u001b[0mlen\u001b[0m\u001b[1;33m(\u001b[0m\u001b[0margs\u001b[0m\u001b[1;33m)\u001b[0m \u001b[1;33m-\u001b[0m \u001b[0mlen\u001b[0m\u001b[1;33m(\u001b[0m\u001b[0mall_args\u001b[0m\u001b[1;33m)\u001b[0m\u001b[1;33m\u001b[0m\u001b[1;33m\u001b[0m\u001b[0m\n\u001b[0;32m     62\u001b[0m             \u001b[1;32mif\u001b[0m \u001b[0mextra_args\u001b[0m \u001b[1;33m<=\u001b[0m \u001b[1;36m0\u001b[0m\u001b[1;33m:\u001b[0m\u001b[1;33m\u001b[0m\u001b[1;33m\u001b[0m\u001b[0m\n\u001b[1;32m---> 63\u001b[1;33m                 \u001b[1;32mreturn\u001b[0m \u001b[0mf\u001b[0m\u001b[1;33m(\u001b[0m\u001b[1;33m*\u001b[0m\u001b[0margs\u001b[0m\u001b[1;33m,\u001b[0m \u001b[1;33m**\u001b[0m\u001b[0mkwargs\u001b[0m\u001b[1;33m)\u001b[0m\u001b[1;33m\u001b[0m\u001b[1;33m\u001b[0m\u001b[0m\n\u001b[0m\u001b[0;32m     64\u001b[0m \u001b[1;33m\u001b[0m\u001b[0m\n\u001b[0;32m     65\u001b[0m             \u001b[1;31m# extra_args > 0\u001b[0m\u001b[1;33m\u001b[0m\u001b[1;33m\u001b[0m\u001b[1;33m\u001b[0m\u001b[0m\n",
      "\u001b[1;32mC:\\Anaconda3\\lib\\site-packages\\sklearn\\metrics\\_ranking.py\u001b[0m in \u001b[0;36mroc_auc_score\u001b[1;34m(y_true, y_score, average, sample_weight, max_fpr, multi_class, labels)\u001b[0m\n\u001b[0;32m    540\u001b[0m         \u001b[0mlabels\u001b[0m \u001b[1;33m=\u001b[0m \u001b[0mnp\u001b[0m\u001b[1;33m.\u001b[0m\u001b[0munique\u001b[0m\u001b[1;33m(\u001b[0m\u001b[0my_true\u001b[0m\u001b[1;33m)\u001b[0m\u001b[1;33m\u001b[0m\u001b[1;33m\u001b[0m\u001b[0m\n\u001b[0;32m    541\u001b[0m         \u001b[0my_true\u001b[0m \u001b[1;33m=\u001b[0m \u001b[0mlabel_binarize\u001b[0m\u001b[1;33m(\u001b[0m\u001b[0my_true\u001b[0m\u001b[1;33m,\u001b[0m \u001b[0mclasses\u001b[0m\u001b[1;33m=\u001b[0m\u001b[0mlabels\u001b[0m\u001b[1;33m)\u001b[0m\u001b[1;33m[\u001b[0m\u001b[1;33m:\u001b[0m\u001b[1;33m,\u001b[0m \u001b[1;36m0\u001b[0m\u001b[1;33m]\u001b[0m\u001b[1;33m\u001b[0m\u001b[1;33m\u001b[0m\u001b[0m\n\u001b[1;32m--> 542\u001b[1;33m         return _average_binary_score(partial(_binary_roc_auc_score,\n\u001b[0m\u001b[0;32m    543\u001b[0m                                              max_fpr=max_fpr),\n\u001b[0;32m    544\u001b[0m                                      \u001b[0my_true\u001b[0m\u001b[1;33m,\u001b[0m \u001b[0my_score\u001b[0m\u001b[1;33m,\u001b[0m \u001b[0maverage\u001b[0m\u001b[1;33m,\u001b[0m\u001b[1;33m\u001b[0m\u001b[1;33m\u001b[0m\u001b[0m\n",
      "\u001b[1;32mC:\\Anaconda3\\lib\\site-packages\\sklearn\\metrics\\_base.py\u001b[0m in \u001b[0;36m_average_binary_score\u001b[1;34m(binary_metric, y_true, y_score, average, sample_weight)\u001b[0m\n\u001b[0;32m     75\u001b[0m \u001b[1;33m\u001b[0m\u001b[0m\n\u001b[0;32m     76\u001b[0m     \u001b[1;32mif\u001b[0m \u001b[0my_type\u001b[0m \u001b[1;33m==\u001b[0m \u001b[1;34m\"binary\"\u001b[0m\u001b[1;33m:\u001b[0m\u001b[1;33m\u001b[0m\u001b[1;33m\u001b[0m\u001b[0m\n\u001b[1;32m---> 77\u001b[1;33m         \u001b[1;32mreturn\u001b[0m \u001b[0mbinary_metric\u001b[0m\u001b[1;33m(\u001b[0m\u001b[0my_true\u001b[0m\u001b[1;33m,\u001b[0m \u001b[0my_score\u001b[0m\u001b[1;33m,\u001b[0m \u001b[0msample_weight\u001b[0m\u001b[1;33m=\u001b[0m\u001b[0msample_weight\u001b[0m\u001b[1;33m)\u001b[0m\u001b[1;33m\u001b[0m\u001b[1;33m\u001b[0m\u001b[0m\n\u001b[0m\u001b[0;32m     78\u001b[0m \u001b[1;33m\u001b[0m\u001b[0m\n\u001b[0;32m     79\u001b[0m     \u001b[0mcheck_consistent_length\u001b[0m\u001b[1;33m(\u001b[0m\u001b[0my_true\u001b[0m\u001b[1;33m,\u001b[0m \u001b[0my_score\u001b[0m\u001b[1;33m,\u001b[0m \u001b[0msample_weight\u001b[0m\u001b[1;33m)\u001b[0m\u001b[1;33m\u001b[0m\u001b[1;33m\u001b[0m\u001b[0m\n",
      "\u001b[1;32mC:\\Anaconda3\\lib\\site-packages\\sklearn\\metrics\\_ranking.py\u001b[0m in \u001b[0;36m_binary_roc_auc_score\u001b[1;34m(y_true, y_score, sample_weight, max_fpr)\u001b[0m\n\u001b[0;32m    325\u001b[0m     \u001b[1;34m\"\"\"Binary roc auc score.\"\"\"\u001b[0m\u001b[1;33m\u001b[0m\u001b[1;33m\u001b[0m\u001b[0m\n\u001b[0;32m    326\u001b[0m     \u001b[1;32mif\u001b[0m \u001b[0mlen\u001b[0m\u001b[1;33m(\u001b[0m\u001b[0mnp\u001b[0m\u001b[1;33m.\u001b[0m\u001b[0munique\u001b[0m\u001b[1;33m(\u001b[0m\u001b[0my_true\u001b[0m\u001b[1;33m)\u001b[0m\u001b[1;33m)\u001b[0m \u001b[1;33m!=\u001b[0m \u001b[1;36m2\u001b[0m\u001b[1;33m:\u001b[0m\u001b[1;33m\u001b[0m\u001b[1;33m\u001b[0m\u001b[0m\n\u001b[1;32m--> 327\u001b[1;33m         raise ValueError(\"Only one class present in y_true. ROC AUC score \"\n\u001b[0m\u001b[0;32m    328\u001b[0m                          \"is not defined in that case.\")\n\u001b[0;32m    329\u001b[0m \u001b[1;33m\u001b[0m\u001b[0m\n",
      "\u001b[1;31mValueError\u001b[0m: Only one class present in y_true. ROC AUC score is not defined in that case."
     ]
    }
   ],
   "source": [
    "exp2_data_test = test_data[['age','hours-per-week','education-num','race','sex']]\n",
    "exp2_data_tlabels = test_data['pay']\n",
    "\n",
    "prediction = new_tree.predict(exp2_data_test)\n",
    "\n",
    "print(accuracy_score(exp2_data_tlabels, prediction))\n",
    "print(f1_score(exp2_data_tlabels, prediction))\n",
    "print(roc_auc_score(exp2_data_tlabels, prediction))"
   ]
  },
  {
   "cell_type": "markdown",
   "id": "86c85338",
   "metadata": {},
   "source": [
    "# Full data training"
   ]
  },
  {
   "cell_type": "code",
   "execution_count": 21,
   "id": "01070cbf",
   "metadata": {},
   "outputs": [
    {
     "name": "stdout",
     "output_type": "stream",
     "text": [
      "0.9782363977485928\n",
      "0.9708835341365462\n",
      "0.9817752960021779\n"
     ]
    }
   ],
   "source": [
    "one_more_tree = DecisionTreeClassifier(max_depth=3)\n",
    "one_more_tree.fit(train_data.drop(['Occupancy'], axis=1), train_data['Occupancy'])\n",
    "\n",
    "exp3_data_test = test_data.drop(['Occupancy'], axis=1)\n",
    "exp3_data_tlabels = test_data['Occupancy']\n",
    "\n",
    "prediction = one_more_tree.predict(exp3_data_test)\n",
    "\n",
    "print(accuracy_score(exp3_data_tlabels, prediction))\n",
    "print(f1_score(exp3_data_tlabels, prediction))\n",
    "print(roc_auc_score(exp3_data_tlabels, prediction))\n"
   ]
  },
  {
   "cell_type": "code",
   "execution_count": 22,
   "id": "6fcf754b",
   "metadata": {},
   "outputs": [
    {
     "data": {
      "text/plain": [
       "array([0.00596696, 0.        , 0.98612782, 0.00790521, 0.        ])"
      ]
     },
     "execution_count": 22,
     "metadata": {},
     "output_type": "execute_result"
    }
   ],
   "source": [
    "one_more_tree.feature_importances_"
   ]
  },
  {
   "cell_type": "markdown",
   "id": "f145e9ad",
   "metadata": {},
   "source": [
    "# Random Forest"
   ]
  },
  {
   "cell_type": "code",
   "execution_count": 23,
   "id": "7fe97bed",
   "metadata": {},
   "outputs": [],
   "source": [
    "from sklearn.ensemble import RandomForestClassifier"
   ]
  },
  {
   "cell_type": "markdown",
   "id": "2a7a9a7f",
   "metadata": {},
   "source": [
    "From https://scikit-learn.org/stable/modules/generated/sklearn.ensemble.RandomForestClassifier.html\n",
    "\n",
    "class sklearn.ensemble.RandomForestClassifier(n_estimators=100, *, criterion='gini', max_depth=None, min_samples_split=2, min_samples_leaf=1, min_weight_fraction_leaf=0.0, max_features='auto', max_leaf_nodes=None, min_impurity_decrease=0.0, bootstrap=True, oob_score=False, n_jobs=None, random_state=None, verbose=0, warm_start=False, class_weight=None, ccp_alpha=0.0, max_samples=None)[source]\n",
    "\n",
    "\n",
    "\n",
    "n_estimators int, default=100\n",
    "The number of trees in the forest\n",
    "\n",
    "criterion='gini'\n",
    "\n",
    "max_depth=None\n",
    "\n",
    "bootstrap=True\n",
    "\n",
    "n_jobs=None"
   ]
  },
  {
   "cell_type": "code",
   "execution_count": 24,
   "id": "7b559ed8",
   "metadata": {},
   "outputs": [
    {
     "name": "stderr",
     "output_type": "stream",
     "text": [
      "<ipython-input-24-ba7f3c76c3bb>:17: MatplotlibDeprecationWarning: shading='flat' when X and Y have the same dimensions as C is deprecated since 3.3.  Either specify the corners of the quadrilaterals with X and Y, or pass shading='auto', 'nearest' or 'gouraud', or set rcParams['pcolor.shading'].  This will become an error two minor releases later.\n",
      "  plt.pcolormesh(xx, yy, predicted, cmap='autumn')\n"
     ]
    },
    {
     "data": {
      "image/png": "[encoded data removed]",
      "text/plain": [
       "<Figure size 720x576 with 1 Axes>"
      ]
     },
     "metadata": {
      "needs_background": "light"
     },
     "output_type": "display_data"
    }
   ],
   "source": [
    "rf = RandomForestClassifier(n_estimators=5, max_depth=3, criterion='entropy', random_state=42)\n",
    "exp1_data_train = train_data[['Temperature','Humidity']]\n",
    "exp1_data_labels = train_data['Occupancy']\n",
    "rf.fit(exp1_data_train, exp1_data_labels)\n",
    "\n",
    "\n",
    "x_min, x_max = exp1_data_train.to_numpy()[:, 0].min() - 1, exp1_data_train.to_numpy()[:, 0].max() + 1\n",
    "y_min, y_max = exp1_data_train.to_numpy()[:, 1].min() - 1, exp1_data_train.to_numpy()[:, 1].max() + 1\n",
    "\n",
    "xx, yy = np.meshgrid(np.arange(x_min, x_max, 0.01), np.arange(y_min, y_max, 0.01))\n",
    "\n",
    "predicted = rf.predict(np.c_[xx.ravel(), yy.ravel()]).reshape(xx.shape)\n",
    "\n",
    "random_indxs = np.random.randint(0, exp1_data_train.shape[0], 200)\n",
    "\n",
    "plt.rcParams['figure.figsize'] = (10,8)\n",
    "plt.pcolormesh(xx, yy, predicted, cmap='autumn')\n",
    "plt.scatter(exp1_data_train.to_numpy()[random_indxs, 0], exp1_data_train.to_numpy()[random_indxs, 1], \n",
    "            c=exp1_data_labels[random_indxs], s=50, cmap='autumn', edgecolors='black', linewidth=1.5);"
   ]
  },
  {
   "cell_type": "code",
   "execution_count": 25,
   "id": "fc93c6f3",
   "metadata": {},
   "outputs": [
    {
     "name": "stdout",
     "output_type": "stream",
     "text": [
      "0.6679174484052532\n",
      "0.3934201507882111\n",
      "0.5885669994336398\n"
     ]
    }
   ],
   "source": [
    "exp1_data_test = test_data[['Temperature','Humidity']]\n",
    "exp1_data_tlabels = test_data['Occupancy']\n",
    "\n",
    "prediction = rf.predict(exp1_data_test)\n",
    "\n",
    "print(accuracy_score(exp1_data_tlabels, prediction))\n",
    "print(f1_score(exp1_data_tlabels, prediction))\n",
    "print(roc_auc_score(exp1_data_tlabels, prediction))"
   ]
  },
  {
   "cell_type": "markdown",
   "id": "e9a9fb24",
   "metadata": {},
   "source": [
    "### Entropy"
   ]
  },
  {
   "cell_type": "code",
   "execution_count": 27,
   "id": "eca5ab9a",
   "metadata": {},
   "outputs": [
    {
     "name": "stdout",
     "output_type": "stream",
     "text": [
      "0.851782363977486\n",
      "0.7875201721355569\n",
      "0.8307664821742395\n"
     ]
    },
    {
     "name": "stderr",
     "output_type": "stream",
     "text": [
      "<ipython-input-27-1f5d08225fb1>:26: MatplotlibDeprecationWarning: shading='flat' when X and Y have the same dimensions as C is deprecated since 3.3.  Either specify the corners of the quadrilaterals with X and Y, or pass shading='auto', 'nearest' or 'gouraud', or set rcParams['pcolor.shading'].  This will become an error two minor releases later.\n",
      "  plt.pcolormesh(xx, yy, predicted, cmap='autumn')\n"
     ]
    },
    {
     "data": {
      "image/png": "[encoded data removed]",
      "text/plain": [
       "<Figure size 720x576 with 1 Axes>"
      ]
     },
     "metadata": {
      "needs_background": "light"
     },
     "output_type": "display_data"
    }
   ],
   "source": [
    "rf = RandomForestClassifier(n_estimators=10, max_depth=5, criterion='entropy', random_state=42)\n",
    "exp1_data_train = train_data[['Temperature','Humidity']]\n",
    "exp1_data_labels = train_data['Occupancy']\n",
    "rf.fit(exp1_data_train, exp1_data_labels)\n",
    "\n",
    "\n",
    "x_min, x_max = exp1_data_train.to_numpy()[:, 0].min() - 1, exp1_data_train.to_numpy()[:, 0].max() + 1\n",
    "y_min, y_max = exp1_data_train.to_numpy()[:, 1].min() - 1, exp1_data_train.to_numpy()[:, 1].max() + 1\n",
    "\n",
    "xx, yy = np.meshgrid(np.arange(x_min, x_max, 0.01), np.arange(y_min, y_max, 0.01))\n",
    "\n",
    "predicted = rf.predict(np.c_[xx.ravel(), yy.ravel()]).reshape(xx.shape)\n",
    "\n",
    "random_indxs = np.random.randint(0, exp1_data_train.shape[0], 200)\n",
    "\n",
    "exp1_data_test = test_data[['Temperature','Humidity']]\n",
    "exp1_data_tlabels = test_data['Occupancy']\n",
    "\n",
    "prediction = rf.predict(exp1_data_test)\n",
    "\n",
    "print(accuracy_score(exp1_data_tlabels, prediction))\n",
    "print(f1_score(exp1_data_tlabels, prediction))\n",
    "print(roc_auc_score(exp1_data_tlabels, prediction))\n",
    "\n",
    "plt.rcParams['figure.figsize'] = (10,8)\n",
    "plt.pcolormesh(xx, yy, predicted, cmap='autumn')\n",
    "plt.scatter(exp1_data_train.to_numpy()[random_indxs, 0], exp1_data_train.to_numpy()[random_indxs, 1], \n",
    "            c=exp1_data_labels[random_indxs], s=50, cmap='autumn', edgecolors='black', linewidth=1.5);"
   ]
  },
  {
   "cell_type": "markdown",
   "id": "f744cfb0",
   "metadata": {},
   "source": [
    "### Gini"
   ]
  },
  {
   "cell_type": "code",
   "execution_count": 28,
   "id": "beaecfcd",
   "metadata": {},
   "outputs": [
    {
     "name": "stdout",
     "output_type": "stream",
     "text": [
      "0.8345215759849907\n",
      "0.7567567567567568\n",
      "0.8071039307339104\n"
     ]
    },
    {
     "name": "stderr",
     "output_type": "stream",
     "text": [
      "<ipython-input-28-3620e92b75ac>:26: MatplotlibDeprecationWarning: shading='flat' when X and Y have the same dimensions as C is deprecated since 3.3.  Either specify the corners of the quadrilaterals with X and Y, or pass shading='auto', 'nearest' or 'gouraud', or set rcParams['pcolor.shading'].  This will become an error two minor releases later.\n",
      "  plt.pcolormesh(xx, yy, predicted, cmap='autumn')\n"
     ]
    },
    {
     "data": {
      "image/png": "[encoded data removed]",
      "text/plain": [
       "<Figure size 720x576 with 1 Axes>"
      ]
     },
     "metadata": {
      "needs_background": "light"
     },
     "output_type": "display_data"
    }
   ],
   "source": [
    "rf = RandomForestClassifier(n_estimators=10, max_depth=5, criterion='gini', random_state=42)\n",
    "exp1_data_train = train_data[['Temperature','Humidity']]\n",
    "exp1_data_labels = train_data['Occupancy']\n",
    "rf.fit(exp1_data_train, exp1_data_labels)\n",
    "\n",
    "\n",
    "x_min, x_max = exp1_data_train.to_numpy()[:, 0].min() - 1, exp1_data_train.to_numpy()[:, 0].max() + 1\n",
    "y_min, y_max = exp1_data_train.to_numpy()[:, 1].min() - 1, exp1_data_train.to_numpy()[:, 1].max() + 1\n",
    "\n",
    "xx, yy = np.meshgrid(np.arange(x_min, x_max, 0.01), np.arange(y_min, y_max, 0.01))\n",
    "\n",
    "predicted = rf.predict(np.c_[xx.ravel(), yy.ravel()]).reshape(xx.shape)\n",
    "\n",
    "random_indxs = np.random.randint(0, exp1_data_train.shape[0], 200)\n",
    "\n",
    "exp1_data_test = test_data[['Temperature','Humidity']]\n",
    "exp1_data_tlabels = test_data['Occupancy']\n",
    "\n",
    "prediction = rf.predict(exp1_data_test)\n",
    "\n",
    "print(accuracy_score(exp1_data_tlabels, prediction))\n",
    "print(f1_score(exp1_data_tlabels, prediction))\n",
    "print(roc_auc_score(exp1_data_tlabels, prediction))\n",
    "\n",
    "plt.rcParams['figure.figsize'] = (10,8)\n",
    "plt.pcolormesh(xx, yy, predicted, cmap='autumn')\n",
    "plt.scatter(exp1_data_train.to_numpy()[random_indxs, 0], exp1_data_train.to_numpy()[random_indxs, 1], \n",
    "            c=exp1_data_labels[random_indxs], s=50, cmap='autumn', edgecolors='black', linewidth=1.5);"
   ]
  },
  {
   "cell_type": "code",
   "execution_count": 29,
   "id": "2c570c70",
   "metadata": {},
   "outputs": [
    {
     "name": "stdout",
     "output_type": "stream",
     "text": [
      "0.7763602251407129\n",
      "0.6405307599517491\n",
      "0.7273714204458446\n"
     ]
    },
    {
     "name": "stderr",
     "output_type": "stream",
     "text": [
      "<ipython-input-29-4fc9ff63da41>:26: MatplotlibDeprecationWarning: shading='flat' when X and Y have the same dimensions as C is deprecated since 3.3.  Either specify the corners of the quadrilaterals with X and Y, or pass shading='auto', 'nearest' or 'gouraud', or set rcParams['pcolor.shading'].  This will become an error two minor releases later.\n",
      "  plt.pcolormesh(xx, yy, predicted, cmap='autumn')\n"
     ]
    },
    {
     "data": {
      "image/png": "[encoded data removed]",
      "text/plain": [
       "<Figure size 720x576 with 1 Axes>"
      ]
     },
     "metadata": {
      "needs_background": "light"
     },
     "output_type": "display_data"
    }
   ],
   "source": [
    "rf = RandomForestClassifier(n_estimators=100, max_depth=5, criterion='gini', random_state=42)\n",
    "exp1_data_train = train_data[['Temperature','Humidity']]\n",
    "exp1_data_labels = train_data['Occupancy']\n",
    "rf.fit(exp1_data_train, exp1_data_labels)\n",
    "\n",
    "\n",
    "x_min, x_max = exp1_data_train.to_numpy()[:, 0].min() - 1, exp1_data_train.to_numpy()[:, 0].max() + 1\n",
    "y_min, y_max = exp1_data_train.to_numpy()[:, 1].min() - 1, exp1_data_train.to_numpy()[:, 1].max() + 1\n",
    "\n",
    "xx, yy = np.meshgrid(np.arange(x_min, x_max, 0.01), np.arange(y_min, y_max, 0.01))\n",
    "\n",
    "predicted = rf.predict(np.c_[xx.ravel(), yy.ravel()]).reshape(xx.shape)\n",
    "\n",
    "random_indxs = np.random.randint(0, exp1_data_train.shape[0], 200)\n",
    "\n",
    "exp1_data_test = test_data[['Temperature','Humidity']]\n",
    "exp1_data_tlabels = test_data['Occupancy']\n",
    "\n",
    "prediction = rf.predict(exp1_data_test)\n",
    "\n",
    "print(accuracy_score(exp1_data_tlabels, prediction))\n",
    "print(f1_score(exp1_data_tlabels, prediction))\n",
    "print(roc_auc_score(exp1_data_tlabels, prediction))\n",
    "\n",
    "plt.rcParams['figure.figsize'] = (10,8)\n",
    "plt.pcolormesh(xx, yy, predicted, cmap='autumn')\n",
    "plt.scatter(exp1_data_train.to_numpy()[random_indxs, 0], exp1_data_train.to_numpy()[random_indxs, 1], \n",
    "            c=exp1_data_labels[random_indxs], s=50, cmap='autumn', edgecolors='black', linewidth=1.5);"
   ]
  },
  {
   "cell_type": "code",
   "execution_count": null,
   "id": "cc1b1924",
   "metadata": {},
   "outputs": [],
   "source": []
  },
  {
   "cell_type": "code",
   "execution_count": 32,
   "id": "5d66c457",
   "metadata": {},
   "outputs": [
    {
     "name": "stdout",
     "output_type": "stream",
     "text": [
      "0.9606003752345216\n",
      "0.9459598558929492\n",
      "0.9573792717045982\n"
     ]
    }
   ],
   "source": [
    "rf = RandomForestClassifier(n_estimators=100, max_depth=5, criterion='gini', random_state=42)\n",
    "exp1_data_train = train_data.drop(['Occupancy'], axis=1)\n",
    "exp1_data_labels = train_data['Occupancy']\n",
    "\n",
    "exp1_data_test = test_data.drop(['Occupancy'], axis=1)\n",
    "rf.fit(exp1_data_train, exp1_data_labels)\n",
    "\n",
    "\n",
    "prediction = rf.predict(exp1_data_test)\n",
    "\n",
    "print(accuracy_score(exp1_data_tlabels, prediction))\n",
    "print(f1_score(exp1_data_tlabels, prediction))\n",
    "print(roc_auc_score(exp1_data_tlabels, prediction))\n"
   ]
  },
  {
   "cell_type": "code",
   "execution_count": null,
   "id": "7b7bdd6c",
   "metadata": {},
   "outputs": [],
   "source": []
  },
  {
   "cell_type": "markdown",
   "id": "46a4c6d9",
   "metadata": {},
   "source": [
    "# OOB score"
   ]
  },
  {
   "cell_type": "code",
   "execution_count": 30,
   "id": "64251288",
   "metadata": {},
   "outputs": [
    {
     "data": {
      "image/png": "[encoded data removed]",
      "text/plain": [
       "<Figure size 720x576 with 1 Axes>"
      ]
     },
     "metadata": {
      "needs_background": "light"
     },
     "output_type": "display_data"
    }
   ],
   "source": [
    "# from https://scikit-learn.org/stable/auto_examples/ensemble/plot_ensemble_oob.html\n",
    "\n",
    "from collections import OrderedDict\n",
    "from sklearn.datasets import make_classification\n",
    "import warnings\n",
    "warnings.filterwarnings('ignore')\n",
    "\n",
    "\n",
    "exp_data_train = train_data.drop(['Occupancy'], axis=1)\n",
    "exp_data_tlabels = train_data['Occupancy']\n",
    "\n",
    "\n",
    "ensemble_clfs = [\n",
    "    (\"RandomForestClassifier, max_features='log2'\",\n",
    "        RandomForestClassifier(warm_start=True, max_features='log2',\n",
    "                               oob_score=True, random_state=42)),\n",
    "    (\"RandomForestClassifier, max_features=None\",\n",
    "        RandomForestClassifier(warm_start=True, max_features=None,\n",
    "                               oob_score=True, random_state=42)) ]\n",
    "\n",
    "\n",
    "error_rate = OrderedDict((label, []) for label, _ in ensemble_clfs)\n",
    "\n",
    "min_estimators = 15\n",
    "max_estimators = 175\n",
    "\n",
    "for label, clf in ensemble_clfs:\n",
    "    for i in range(min_estimators, max_estimators + 1):\n",
    "        clf.set_params(n_estimators=i)\n",
    "        clf.fit(exp_data_train, exp_data_tlabels)\n",
    "\n",
    "        oob_error = 1 - clf.oob_score_\n",
    "        error_rate[label].append((i, oob_error))\n",
    "\n",
    "for label, clf_err in error_rate.items():\n",
    "    xs, ys = zip(*clf_err)\n",
    "    plt.plot(xs, ys, label=label)\n",
    "\n",
    "plt.xlim(min_estimators, max_estimators)\n",
    "plt.xlabel(\"n_estimators\")\n",
    "plt.ylabel(\"OOB error rate\")\n",
    "plt.legend(loc=\"upper right\")\n",
    "plt.show()"
   ]
  },
  {
   "cell_type": "code",
   "execution_count": null,
   "id": "1054213f",
   "metadata": {},
   "outputs": [],
   "source": []
  },
  {
   "cell_type": "code",
   "execution_count": null,
   "id": "2fae5d3a",
   "metadata": {},
   "outputs": [],
   "source": []
  },
  {
   "cell_type": "markdown",
   "id": "ec88a454",
   "metadata": {},
   "source": [
    "# HomeWork"
   ]
  },
  {
   "cell_type": "code",
   "execution_count": 73,
   "id": "b6a56aff",
   "metadata": {},
   "outputs": [],
   "source": [
    "import numpy as np\n",
    "\n",
    "class SomeClass(object):\n",
    "    \n",
    "    def __init__(self, item2, depth, criterion):\n",
    "        self.item = 5\n",
    "        self.item2 = item2\n",
    "        self.coeff = np.zeros(depth)\n",
    "        self.criterion = criterion\n",
    "\n",
    "    def fit(self, X, y):\n",
    "        # select indx of feature\n",
    "        # find best coeff for featues splitting from X_indx according to the criterion\n",
    "        return np.sum(y)\n",
    "\n",
    "    def predict(self, X):\n",
    "        X_predicted = X\n",
    "        return X_predicted"
   ]
  },
  {
   "cell_type": "code",
   "execution_count": null,
   "id": "9154e5fe",
   "metadata": {},
   "outputs": [],
   "source": [
    "myclass = SomeClass(10)\n",
    "print(myclass.item)\n",
    "print(myclass.item2)"
   ]
  },
  {
   "cell_type": "code",
   "execution_count": null,
   "id": "246df430",
   "metadata": {},
   "outputs": [],
   "source": []
  }
 ],
 "metadata": {
  "kernelspec": {
   "display_name": "Python 3",
   "language": "python",
   "name": "python3"
  },
  "language_info": {
   "codemirror_mode": {
    "name": "ipython",
    "version": 3
   },
   "file_extension": ".py",
   "mimetype": "text/x-python",
   "name": "python",
   "nbconvert_exporter": "python",
   "pygments_lexer": "ipython3",
   "version": "3.8.8"
  }
 },
 "nbformat": 4,
 "nbformat_minor": 5
}
